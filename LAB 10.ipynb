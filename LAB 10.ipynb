{
 "cells": [
  {
   "cell_type": "markdown",
   "id": "6d2148b6",
   "metadata": {},
   "source": [
    "# Lab work tasks:"
   ]
  },
  {
   "cell_type": "markdown",
   "id": "3be49ad5",
   "metadata": {},
   "source": [
    "## 1. Creating Modules "
   ]
  },
  {
   "cell_type": "code",
   "execution_count": 1,
   "id": "1b85ac10",
   "metadata": {},
   "outputs": [],
   "source": [
    "def add(x, y):\n",
    "    return x + y "
   ]
  },
  {
   "cell_type": "markdown",
   "id": "6186083e",
   "metadata": {},
   "source": [
    "### a. Save the file as adder.py in a new directory called myproject/ somewhere on your computer. "
   ]
  },
  {
   "cell_type": "markdown",
   "id": "ae76918f",
   "metadata": {},
   "source": [
    "## a. Use this module as given below. "
   ]
  },
  {
   "cell_type": "code",
   "execution_count": 2,
   "id": "cc5549d0",
   "metadata": {},
   "outputs": [
    {
     "ename": "AttributeError",
     "evalue": "module 'adder' has no attribute 'add'",
     "output_type": "error",
     "traceback": [
      "\u001b[1;31m---------------------------------------------------------------------------\u001b[0m",
      "\u001b[1;31mAttributeError\u001b[0m                            Traceback (most recent call last)",
      "Cell \u001b[1;32mIn[2], line 2\u001b[0m\n\u001b[0;32m      1\u001b[0m \u001b[38;5;28;01mimport\u001b[39;00m \u001b[38;5;21;01madder\u001b[39;00m\n\u001b[1;32m----> 2\u001b[0m value \u001b[38;5;241m=\u001b[39m adder\u001b[38;5;241m.\u001b[39madd(\u001b[38;5;241m2\u001b[39m, \u001b[38;5;241m2\u001b[39m)\n\u001b[0;32m      3\u001b[0m \u001b[38;5;28mprint\u001b[39m(value)\n",
      "\u001b[1;31mAttributeError\u001b[0m: module 'adder' has no attribute 'add'"
     ]
    }
   ],
   "source": [
    "import adder\n",
    "value = adder.add(2, 2)\n",
    "print(value) "
   ]
  },
  {
   "cell_type": "markdown",
   "id": "9f1ab34b",
   "metadata": {},
   "source": [
    "## b. Add another function to double a given value. "
   ]
  },
  {
   "cell_type": "code",
   "execution_count": null,
   "id": "fe9d2ec0",
   "metadata": {},
   "outputs": [],
   "source": [
    "def double(x):\n",
    "    return x + x "
   ]
  },
  {
   "cell_type": "markdown",
   "id": "7e0ee5da",
   "metadata": {},
   "source": [
    "## ▪ Run the following code.  "
   ]
  },
  {
   "cell_type": "code",
   "execution_count": 3,
   "id": "3d60f7e7",
   "metadata": {},
   "outputs": [
    {
     "ename": "AttributeError",
     "evalue": "module 'adder' has no attribute 'add'",
     "output_type": "error",
     "traceback": [
      "\u001b[1;31m---------------------------------------------------------------------------\u001b[0m",
      "\u001b[1;31mAttributeError\u001b[0m                            Traceback (most recent call last)",
      "Cell \u001b[1;32mIn[3], line 2\u001b[0m\n\u001b[0;32m      1\u001b[0m \u001b[38;5;28;01mimport\u001b[39;00m \u001b[38;5;21;01madder\u001b[39;00m \n\u001b[1;32m----> 2\u001b[0m value \u001b[38;5;241m=\u001b[39m adder\u001b[38;5;241m.\u001b[39madd(\u001b[38;5;241m2\u001b[39m, \u001b[38;5;241m2\u001b[39m) \n\u001b[0;32m      3\u001b[0m double_value \u001b[38;5;241m=\u001b[39m adder\u001b[38;5;241m.\u001b[39mdouble(value)  \n\u001b[0;32m      4\u001b[0m \u001b[38;5;28mprint\u001b[39m(double_value)\n",
      "\u001b[1;31mAttributeError\u001b[0m: module 'adder' has no attribute 'add'"
     ]
    }
   ],
   "source": [
    "import adder \n",
    "value = adder.add(2, 2) \n",
    "double_value = adder.double(value)  \n",
    "print(double_value) "
   ]
  },
  {
   "cell_type": "markdown",
   "id": "0d19556c",
   "metadata": {},
   "source": [
    "## c. import <module> as <other_name>"
   ]
  },
  {
   "cell_type": "code",
   "execution_count": 4,
   "id": "426bf170",
   "metadata": {},
   "outputs": [
    {
     "ename": "SyntaxError",
     "evalue": "invalid syntax (100849837.py, line 1)",
     "output_type": "error",
     "traceback": [
      "\u001b[1;36m  Cell \u001b[1;32mIn[4], line 1\u001b[1;36m\u001b[0m\n\u001b[1;33m    import <module>\u001b[0m\n\u001b[1;37m           ^\u001b[0m\n\u001b[1;31mSyntaxError\u001b[0m\u001b[1;31m:\u001b[0m invalid syntax\n"
     ]
    }
   ],
   "source": [
    "import <module> "
   ]
  },
  {
   "cell_type": "markdown",
   "id": "5d30519a",
   "metadata": {},
   "source": [
    "### ▪ When you import a module this way, the module’s namespace is accessed through <other_name> instead of <module>. "
   ]
  },
  {
   "cell_type": "markdown",
   "id": "b3746233",
   "metadata": {},
   "source": [
    "## i. Run the following code and note what you observe and why this happened. "
   ]
  },
  {
   "cell_type": "code",
   "execution_count": 5,
   "id": "58411284",
   "metadata": {},
   "outputs": [
    {
     "ename": "AttributeError",
     "evalue": "module 'adder' has no attribute 'add'",
     "output_type": "error",
     "traceback": [
      "\u001b[1;31m---------------------------------------------------------------------------\u001b[0m",
      "\u001b[1;31mAttributeError\u001b[0m                            Traceback (most recent call last)",
      "Cell \u001b[1;32mIn[5], line 3\u001b[0m\n\u001b[0;32m      1\u001b[0m \u001b[38;5;28;01mimport\u001b[39;00m \u001b[38;5;21;01madder\u001b[39;00m \u001b[38;5;28;01mas\u001b[39;00m \u001b[38;5;21;01ma\u001b[39;00m \u001b[38;5;66;03m# <-- Change this line \u001b[39;00m\n\u001b[0;32m      2\u001b[0m \u001b[38;5;66;03m# Leave the code below unchanged \u001b[39;00m\n\u001b[1;32m----> 3\u001b[0m value \u001b[38;5;241m=\u001b[39m adder\u001b[38;5;241m.\u001b[39madd(\u001b[38;5;241m2\u001b[39m, \u001b[38;5;241m2\u001b[39m) \n\u001b[0;32m      4\u001b[0m double_value \u001b[38;5;241m=\u001b[39m adder\u001b[38;5;241m.\u001b[39mdouble(value) \n\u001b[0;32m      5\u001b[0m \u001b[38;5;28mprint\u001b[39m(double_value)\n",
      "\u001b[1;31mAttributeError\u001b[0m: module 'adder' has no attribute 'add'"
     ]
    }
   ],
   "source": [
    "import adder as a # <-- Change this line \n",
    "# Leave the code below unchanged \n",
    "value = adder.add(2, 2) \n",
    "double_value = adder.double(value) \n",
    "print(double_value) "
   ]
  },
  {
   "cell_type": "markdown",
   "id": "9c62ff51",
   "metadata": {},
   "source": [
    "### ii. Run the following code and note what you observe and why this happened. "
   ]
  },
  {
   "cell_type": "code",
   "execution_count": 6,
   "id": "05cdab54",
   "metadata": {},
   "outputs": [
    {
     "ename": "AttributeError",
     "evalue": "module 'adder' has no attribute 'add'",
     "output_type": "error",
     "traceback": [
      "\u001b[1;31m---------------------------------------------------------------------------\u001b[0m",
      "\u001b[1;31mAttributeError\u001b[0m                            Traceback (most recent call last)",
      "Cell \u001b[1;32mIn[6], line 2\u001b[0m\n\u001b[0;32m      1\u001b[0m \u001b[38;5;28;01mimport\u001b[39;00m \u001b[38;5;21;01madder\u001b[39;00m \u001b[38;5;28;01mas\u001b[39;00m \u001b[38;5;21;01ma\u001b[39;00m \n\u001b[1;32m----> 2\u001b[0m value \u001b[38;5;241m=\u001b[39m a\u001b[38;5;241m.\u001b[39madd(\u001b[38;5;241m2\u001b[39m, \u001b[38;5;241m2\u001b[39m) \u001b[38;5;66;03m# <-- Change this line \u001b[39;00m\n\u001b[0;32m      3\u001b[0m double_value \u001b[38;5;241m=\u001b[39m a\u001b[38;5;241m.\u001b[39mdouble(value) \u001b[38;5;66;03m# <-- Change this line, too \u001b[39;00m\n\u001b[0;32m      4\u001b[0m \u001b[38;5;28mprint\u001b[39m(double_value)\n",
      "\u001b[1;31mAttributeError\u001b[0m: module 'adder' has no attribute 'add'"
     ]
    }
   ],
   "source": [
    "import adder as a \n",
    "value = a.add(2, 2) # <-- Change this line \n",
    "double_value = a.double(value) # <-- Change this line, too \n",
    "print(double_value)"
   ]
  },
  {
   "cell_type": "markdown",
   "id": "cec3c083",
   "metadata": {},
   "source": [
    "### d. from <module> import <name> "
   ]
  },
  {
   "cell_type": "code",
   "execution_count": 7,
   "id": "c5281f0d",
   "metadata": {},
   "outputs": [
    {
     "ename": "SyntaxError",
     "evalue": "invalid syntax (1479945954.py, line 1)",
     "output_type": "error",
     "traceback": [
      "\u001b[1;36m  Cell \u001b[1;32mIn[7], line 1\u001b[1;36m\u001b[0m\n\u001b[1;33m    import <name>\u001b[0m\n\u001b[1;37m           ^\u001b[0m\n\u001b[1;31mSyntaxError\u001b[0m\u001b[1;31m:\u001b[0m invalid syntax\n"
     ]
    }
   ],
   "source": [
    " import <name>"
   ]
  },
  {
   "cell_type": "markdown",
   "id": "7462780b",
   "metadata": {},
   "source": [
    "### Instead of importing the entire namespace, you can import only a specific name from a module. "
   ]
  },
  {
   "cell_type": "markdown",
   "id": "a5a5abff",
   "metadata": {},
   "source": [
    "## ▪ Run the following code. "
   ]
  },
  {
   "cell_type": "code",
   "execution_count": 8,
   "id": "57acac7f",
   "metadata": {},
   "outputs": [
    {
     "ename": "ImportError",
     "evalue": "cannot import name 'add' from 'adder' (C:\\Users\\Alyan\\anaconda3\\Lib\\site-packages\\adder\\__init__.py)",
     "output_type": "error",
     "traceback": [
      "\u001b[1;31m---------------------------------------------------------------------------\u001b[0m",
      "\u001b[1;31mImportError\u001b[0m                               Traceback (most recent call last)",
      "Cell \u001b[1;32mIn[8], line 1\u001b[0m\n\u001b[1;32m----> 1\u001b[0m \u001b[38;5;28;01mfrom\u001b[39;00m \u001b[38;5;21;01madder\u001b[39;00m \u001b[38;5;28;01mimport\u001b[39;00m add \u001b[38;5;66;03m# <-- Change this line \u001b[39;00m\n\u001b[0;32m      2\u001b[0m value \u001b[38;5;241m=\u001b[39m adder\u001b[38;5;241m.\u001b[39madd(\u001b[38;5;241m2\u001b[39m, \u001b[38;5;241m2\u001b[39m) \n\u001b[0;32m      3\u001b[0m \u001b[38;5;28mprint\u001b[39m(value)\n",
      "\u001b[1;31mImportError\u001b[0m: cannot import name 'add' from 'adder' (C:\\Users\\Alyan\\anaconda3\\Lib\\site-packages\\adder\\__init__.py)"
     ]
    }
   ],
   "source": [
    "from adder import add # <-- Change this line \n",
    "value = adder.add(2, 2) \n",
    "print(value) "
   ]
  },
  {
   "cell_type": "markdown",
   "id": "55dbaa27",
   "metadata": {},
   "source": [
    "### ▪ Run the following code and note what you observe and why this happened. "
   ]
  },
  {
   "cell_type": "code",
   "execution_count": 9,
   "id": "8fd4a7ac",
   "metadata": {},
   "outputs": [
    {
     "ename": "ImportError",
     "evalue": "cannot import name 'add' from 'adder' (C:\\Users\\Alyan\\anaconda3\\Lib\\site-packages\\adder\\__init__.py)",
     "output_type": "error",
     "traceback": [
      "\u001b[1;31m---------------------------------------------------------------------------\u001b[0m",
      "\u001b[1;31mImportError\u001b[0m                               Traceback (most recent call last)",
      "Cell \u001b[1;32mIn[9], line 1\u001b[0m\n\u001b[1;32m----> 1\u001b[0m \u001b[38;5;28;01mfrom\u001b[39;00m \u001b[38;5;21;01madder\u001b[39;00m \u001b[38;5;28;01mimport\u001b[39;00m add \u001b[38;5;66;03m# <-- Change this line \u001b[39;00m\n\u001b[0;32m      2\u001b[0m value \u001b[38;5;241m=\u001b[39m adder\u001b[38;5;241m.\u001b[39madd(\u001b[38;5;241m2\u001b[39m, \u001b[38;5;241m2\u001b[39m) \n\u001b[0;32m      3\u001b[0m double_value \u001b[38;5;241m=\u001b[39m adder\u001b[38;5;241m.\u001b[39mdouble(\u001b[38;5;241m2\u001b[39m, \u001b[38;5;241m2\u001b[39m) \n",
      "\u001b[1;31mImportError\u001b[0m: cannot import name 'add' from 'adder' (C:\\Users\\Alyan\\anaconda3\\Lib\\site-packages\\adder\\__init__.py)"
     ]
    }
   ],
   "source": [
    "from adder import add # <-- Change this line \n",
    "value = adder.add(2, 2) \n",
    "double_value = adder.double(2, 2) \n",
    "print(double_value)"
   ]
  },
  {
   "cell_type": "markdown",
   "id": "5d42fc2f",
   "metadata": {},
   "source": [
    "### ▪ Run the following code and note what you observe and why this happened. "
   ]
  },
  {
   "cell_type": "code",
   "execution_count": 10,
   "id": "2bdab24b",
   "metadata": {},
   "outputs": [
    {
     "ename": "ImportError",
     "evalue": "cannot import name 'add' from 'adder' (C:\\Users\\Alyan\\anaconda3\\Lib\\site-packages\\adder\\__init__.py)",
     "output_type": "error",
     "traceback": [
      "\u001b[1;31m---------------------------------------------------------------------------\u001b[0m",
      "\u001b[1;31mImportError\u001b[0m                               Traceback (most recent call last)",
      "Cell \u001b[1;32mIn[10], line 1\u001b[0m\n\u001b[1;32m----> 1\u001b[0m \u001b[38;5;28;01mfrom\u001b[39;00m \u001b[38;5;21;01madder\u001b[39;00m \u001b[38;5;28;01mimport\u001b[39;00m add, double \u001b[38;5;66;03m# <-- Change this line \u001b[39;00m\n\u001b[0;32m      2\u001b[0m \u001b[38;5;66;03m# Leave the code below unchanged \u001b[39;00m\n\u001b[0;32m      3\u001b[0m value \u001b[38;5;241m=\u001b[39m add(\u001b[38;5;241m2\u001b[39m, \u001b[38;5;241m2\u001b[39m) \n",
      "\u001b[1;31mImportError\u001b[0m: cannot import name 'add' from 'adder' (C:\\Users\\Alyan\\anaconda3\\Lib\\site-packages\\adder\\__init__.py)"
     ]
    }
   ],
   "source": [
    "from adder import add, double # <-- Change this line \n",
    "# Leave the code below unchanged \n",
    "value = add(2, 2) \n",
    "double_value = double(value) \n",
    "print(double_value)"
   ]
  },
  {
   "cell_type": "markdown",
   "id": "53f2a07c",
   "metadata": {},
   "source": [
    "### 2. Master the above different ways of importing.  Sometimes, modules contain a single function or class that has the same name as the  module. For example, there is a module in the Python standard library called datetime that contains a class called datetime. "
   ]
  },
  {
   "cell_type": "markdown",
   "id": "3efe156d",
   "metadata": {},
   "source": [
    "### a. Run the following code and understand how different ways of importing are important.  "
   ]
  },
  {
   "cell_type": "code",
   "execution_count": 16,
   "id": "db743db7",
   "metadata": {},
   "outputs": [
    {
     "data": {
      "text/plain": [
       "datetime.datetime(2020, 2, 2, 0, 0)"
      ]
     },
     "execution_count": 16,
     "metadata": {},
     "output_type": "execute_result"
    }
   ],
   "source": [
    "import datetime \n",
    "datetime.datetime(2020, 2, 2) "
   ]
  },
  {
   "cell_type": "markdown",
   "id": "2b78316e",
   "metadata": {},
   "source": [
    "### b. Run the following code and understand how different ways of importing are important. "
   ]
  },
  {
   "cell_type": "code",
   "execution_count": 17,
   "id": "e34a9492",
   "metadata": {},
   "outputs": [
    {
     "data": {
      "text/plain": [
       "datetime.datetime(2020, 2, 2, 0, 0)"
      ]
     },
     "execution_count": 17,
     "metadata": {},
     "output_type": "execute_result"
    }
   ],
   "source": [
    "import datetime as dt \n",
    "dt.datetime(2020, 2, 2) "
   ]
  },
  {
   "cell_type": "markdown",
   "id": "7a513115",
   "metadata": {},
   "source": [
    "### c. Run the following code and understand how different ways of importing are important. "
   ]
  },
  {
   "cell_type": "code",
   "execution_count": 18,
   "id": "b3e0a156",
   "metadata": {},
   "outputs": [
    {
     "data": {
      "text/plain": [
       "datetime.datetime(2020, 2, 2, 0, 0)"
      ]
     },
     "execution_count": 18,
     "metadata": {},
     "output_type": "execute_result"
    }
   ],
   "source": [
    "from datetime import datetime \n",
    "datetime(2020, 2, 2) "
   ]
  },
  {
   "cell_type": "markdown",
   "id": "b34d713b",
   "metadata": {},
   "source": [
    "# 3. Creating Packages "
   ]
  },
  {
   "cell_type": "markdown",
   "id": "a24bd680",
   "metadata": {},
   "source": [
    "### A package is a folder that contains one or more Python modules. It must also contain a special module called __init__.py. Here is an example of a package so that you can see this structure:"
   ]
  },
  {
   "cell_type": "markdown",
   "id": "73645338",
   "metadata": {},
   "source": [
    "## • Open a script and save. "
   ]
  },
  {
   "cell_type": "markdown",
   "id": "b8324df3",
   "metadata": {},
   "source": [
    "### • Make module1.py and save in the same folder. "
   ]
  },
  {
   "cell_type": "code",
   "execution_count": 19,
   "id": "f5b6cf84",
   "metadata": {},
   "outputs": [
    {
     "ename": "IndentationError",
     "evalue": "expected an indented block after function definition on line 2 (2567474720.py, line 3)",
     "output_type": "error",
     "traceback": [
      "\u001b[1;36m  Cell \u001b[1;32mIn[19], line 3\u001b[1;36m\u001b[0m\n\u001b[1;33m    print(f\"Hello , {name}!\")\u001b[0m\n\u001b[1;37m    ^\u001b[0m\n\u001b[1;31mIndentationError\u001b[0m\u001b[1;31m:\u001b[0m expected an indented block after function definition on line 2\n"
     ]
    }
   ],
   "source": [
    "# module1.py \n",
    "def greet(name): \n",
    "print(f\"Hello , {name}!\") "
   ]
  },
  {
   "cell_type": "markdown",
   "id": "e3bb2b2a",
   "metadata": {},
   "source": [
    "### • Make module2.py and save in the same folder.  "
   ]
  },
  {
   "cell_type": "code",
   "execution_count": 20,
   "id": "279ed257",
   "metadata": {},
   "outputs": [
    {
     "ename": "IndentationError",
     "evalue": "expected an indented block after function definition on line 2 (838619858.py, line 3)",
     "output_type": "error",
     "traceback": [
      "\u001b[1;36m  Cell \u001b[1;32mIn[20], line 3\u001b[1;36m\u001b[0m\n\u001b[1;33m    print(f\"Goodbye, {name}!\")\u001b[0m\n\u001b[1;37m    ^\u001b[0m\n\u001b[1;31mIndentationError\u001b[0m\u001b[1;31m:\u001b[0m expected an indented block after function definition on line 2\n"
     ]
    }
   ],
   "source": [
    "# module2.py \n",
    "def depart(name): \n",
    "print(f\"Goodbye, {name}!\") "
   ]
  },
  {
   "cell_type": "markdown",
   "id": "d186d554",
   "metadata": {},
   "source": [
    "### b. Run the following code and observe what happens and why. "
   ]
  },
  {
   "cell_type": "code",
   "execution_count": 21,
   "id": "decd8de3",
   "metadata": {},
   "outputs": [
    {
     "ename": "ModuleNotFoundError",
     "evalue": "No module named 'mypackage'",
     "output_type": "error",
     "traceback": [
      "\u001b[1;31m---------------------------------------------------------------------------\u001b[0m",
      "\u001b[1;31mModuleNotFoundError\u001b[0m                       Traceback (most recent call last)",
      "Cell \u001b[1;32mIn[21], line 1\u001b[0m\n\u001b[1;32m----> 1\u001b[0m \u001b[38;5;28;01mimport\u001b[39;00m \u001b[38;5;21;01mmypackage\u001b[39;00m \n\u001b[0;32m      2\u001b[0m mypackage\u001b[38;5;241m.\u001b[39mmodule1\u001b[38;5;241m.\u001b[39mgreet(\u001b[38;5;124m\"\u001b[39m\u001b[38;5;124mPythonista\u001b[39m\u001b[38;5;124m\"\u001b[39m) \n\u001b[0;32m      3\u001b[0m mypackage\u001b[38;5;241m.\u001b[39mmodule2\u001b[38;5;241m.\u001b[39mdepart(\u001b[38;5;124m\"\u001b[39m\u001b[38;5;124mPythonista\u001b[39m\u001b[38;5;124m\"\u001b[39m)\n",
      "\u001b[1;31mModuleNotFoundError\u001b[0m: No module named 'mypackage'"
     ]
    }
   ],
   "source": [
    "import mypackage \n",
    "mypackage.module1.greet(\"Pythonista\") \n",
    "mypackage.module2.depart(\"Pythonista\")"
   ]
  },
  {
   "cell_type": "markdown",
   "id": "66ea8db0",
   "metadata": {},
   "source": [
    "### c. Run the following code and observe what happens and why. "
   ]
  },
  {
   "cell_type": "code",
   "execution_count": 22,
   "id": "7026a537",
   "metadata": {},
   "outputs": [
    {
     "ename": "ModuleNotFoundError",
     "evalue": "No module named 'mypackage'",
     "output_type": "error",
     "traceback": [
      "\u001b[1;31m---------------------------------------------------------------------------\u001b[0m",
      "\u001b[1;31mModuleNotFoundError\u001b[0m                       Traceback (most recent call last)",
      "Cell \u001b[1;32mIn[22], line 1\u001b[0m\n\u001b[1;32m----> 1\u001b[0m \u001b[38;5;28;01mimport\u001b[39;00m \u001b[38;5;21;01mmypackage\u001b[39;00m\u001b[38;5;21;01m.\u001b[39;00m\u001b[38;5;21;01mmodule1\u001b[39;00m \u001b[38;5;66;03m# <-- Change this line \u001b[39;00m\n\u001b[0;32m      2\u001b[0m \u001b[38;5;66;03m# Leave the below code unchanged \u001b[39;00m\n\u001b[0;32m      3\u001b[0m mypackage\u001b[38;5;241m.\u001b[39mmodule1\u001b[38;5;241m.\u001b[39mgreet(\u001b[38;5;124m\"\u001b[39m\u001b[38;5;124mPythonista\u001b[39m\u001b[38;5;124m\"\u001b[39m) \n",
      "\u001b[1;31mModuleNotFoundError\u001b[0m: No module named 'mypackage'"
     ]
    }
   ],
   "source": [
    "import mypackage.module1 # <-- Change this line \n",
    "# Leave the below code unchanged \n",
    "mypackage.module1.greet(\"Pythonista\") \n",
    "mypackage.module2.depart(\"Pythonista\")"
   ]
  },
  {
   "cell_type": "markdown",
   "id": "f97797bb",
   "metadata": {},
   "source": [
    "### d. Run the following code and observe what happens and why."
   ]
  },
  {
   "cell_type": "code",
   "execution_count": 23,
   "id": "4fba0ff6",
   "metadata": {},
   "outputs": [
    {
     "ename": "ModuleNotFoundError",
     "evalue": "No module named 'mypackage'",
     "output_type": "error",
     "traceback": [
      "\u001b[1;31m---------------------------------------------------------------------------\u001b[0m",
      "\u001b[1;31mModuleNotFoundError\u001b[0m                       Traceback (most recent call last)",
      "Cell \u001b[1;32mIn[23], line 1\u001b[0m\n\u001b[1;32m----> 1\u001b[0m \u001b[38;5;28;01mimport\u001b[39;00m \u001b[38;5;21;01mmypackage\u001b[39;00m\u001b[38;5;21;01m.\u001b[39;00m\u001b[38;5;21;01mmodule1\u001b[39;00m \n\u001b[0;32m      2\u001b[0m \u001b[38;5;28;01mimport\u001b[39;00m \u001b[38;5;21;01mmypackage\u001b[39;00m\u001b[38;5;21;01m.\u001b[39;00m\u001b[38;5;21;01mmodule2\u001b[39;00m \u001b[38;5;66;03m# <-- Add this line \u001b[39;00m\n\u001b[0;32m      3\u001b[0m \u001b[38;5;66;03m# Leave the below code unchanged \u001b[39;00m\n",
      "\u001b[1;31mModuleNotFoundError\u001b[0m: No module named 'mypackage'"
     ]
    }
   ],
   "source": [
    "import mypackage.module1 \n",
    "import mypackage.module2 # <-- Add this line \n",
    "# Leave the below code unchanged \n",
    "mypackage.module1.greet(\"Pythonista\") \n",
    "mypackage.module2.depart(\"Pythonista\")"
   ]
  },
  {
   "cell_type": "code",
   "execution_count": null,
   "id": "cad4bbad",
   "metadata": {},
   "outputs": [],
   "source": []
  }
 ],
 "metadata": {
  "kernelspec": {
   "display_name": "Python 3 (ipykernel)",
   "language": "python",
   "name": "python3"
  },
  "language_info": {
   "codemirror_mode": {
    "name": "ipython",
    "version": 3
   },
   "file_extension": ".py",
   "mimetype": "text/x-python",
   "name": "python",
   "nbconvert_exporter": "python",
   "pygments_lexer": "ipython3",
   "version": "3.11.4"
  }
 },
 "nbformat": 4,
 "nbformat_minor": 5
}
