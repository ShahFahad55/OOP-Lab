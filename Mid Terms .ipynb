{
 "cells": [
  {
   "cell_type": "markdown",
   "id": "6018fc90",
   "metadata": {},
   "source": [
    "# Class Employee:"
   ]
  },
  {
   "cell_type": "code",
   "execution_count": 11,
   "id": "dce47bd4",
   "metadata": {},
   "outputs": [
    {
     "name": "stdout",
     "output_type": "stream",
     "text": [
      "4000000\n",
      "alyan.khattak@email.company\n",
      "name is fahad and khattak age is 14 and salary is 200000\n"
     ]
    }
   ],
   "source": [
    "class Employee:\n",
    "    def __init__(self,f,l,a,s):\n",
    "        self.f=f\n",
    "        self.l=l\n",
    "        self.a=a\n",
    "        self.s=s\n",
    "        self.email= f+'.'+l+'@email.company'\n",
    "    def rise(self,r):\n",
    "        return self.s*r\n",
    "    def __str__(self):\n",
    "        return f'name is {self.f} and {self.l} age is {self.a} and salary is {self.s}'\n",
    "\n",
    "e1 =Employee(\"fahad\",\"khattak\",14,200000)\n",
    "\n",
    "e2 =Employee(\"alyan\",\"khattak\",20,500000)\n",
    "print(e1.rise(20))\n",
    "print(e2.email)\n",
    "print(e1)"
   ]
  },
  {
   "cell_type": "markdown",
   "id": "2aaac0e8",
   "metadata": {},
   "source": [
    "# super class mean (inherutance)"
   ]
  },
  {
   "cell_type": "code",
   "execution_count": 12,
   "id": "b262b62b",
   "metadata": {},
   "outputs": [
    {
     "name": "stdout",
     "output_type": "stream",
     "text": [
      "black rolex\n"
     ]
    }
   ],
   "source": [
    "class Manager (Employee):\n",
    "    def __init__(self,f,l,a,s,c):\n",
    "        super().__init__(f,l,a,s)\n",
    "        self.c=c\n",
    "    def __str__(self):\n",
    "        return f' name is {self.f} and {self.l} age is {self.a} salary is {self.s} and car is {self.c}'\n",
    "    \n",
    "e3 = Manager(\"Mashal\",\"khattak\",10,1000,\"black rolex\")\n",
    "print(e3.c)"
   ]
  },
  {
   "cell_type": "markdown",
   "id": "029c272d",
   "metadata": {},
   "source": [
    "# PERCENTAGE"
   ]
  },
  {
   "cell_type": "code",
   "execution_count": 10,
   "id": "e46a05af",
   "metadata": {},
   "outputs": [
    {
     "name": "stdout",
     "output_type": "stream",
     "text": [
      "Enter the t_marks23\n",
      "Enter the o_marks2\n",
      "your percentage is 8.695652173913043 and your grade is F\n"
     ]
    }
   ],
   "source": [
    "t_marks = int(input(\"Enter the t_marks\"))\n",
    "o_marks = int(input(\"Enter the o_marks\"))\n",
    "per=(o_marks / t_marks) * 100\n",
    "if (o_marks > t_marks):\n",
    "    print(\"incorrect\")\n",
    "elif(per >= 90):\n",
    "    print(f\"your percentage is {per} and your grade is A+\")\n",
    "elif( per >= 80):\n",
    "    print(f\"your percentage is {per} and your grade is A\")\n",
    "elif( per >= 70 ):\n",
    "    print(f\"your percentage is {per} and your grade is B \")\n",
    "elif( per >= 60 ):\n",
    "    print(f\"your percentage is {per} and your grade is C \")\n",
    "elif( per >= 40 ):\n",
    "    print(f\"your percentage is {per} and your grade is D \")\n",
    "elif( per <= 40 ):\n",
    "    print(f\"your percentage is {per} and your grade is F\")"
   ]
  },
  {
   "cell_type": "markdown",
   "id": "0c71b70f",
   "metadata": {},
   "source": [
    "# even and odd number"
   ]
  },
  {
   "cell_type": "code",
   "execution_count": 13,
   "id": "705768a4",
   "metadata": {},
   "outputs": [
    {
     "name": "stdout",
     "output_type": "stream",
     "text": [
      "Even Integers: [2, 8, 10, 6, 12, 12, 18, 4, 10, 18]\n",
      "Odd Integers: [3, 5, 7, 7, 3, 5, 15, 7, 15, 5]\n"
     ]
    }
   ],
   "source": [
    "integer_list = [3, 5, 7, 2, 8, 10, 7, 6, 3, 5, 12, 15, 7, 12, 18, 4, 15, 5, 10, 18]\n",
    "list_even = []\n",
    "list_odd = []\n",
    "for integer in integer_list:\n",
    "    if integer % 2 == 0:\n",
    "        list_even.append(integer)\n",
    "    else:\n",
    "        list_odd.append(integer)\n",
    "\n",
    "print(\"Even Integers:\", list_even)\n",
    "print(\"Odd Integers:\", list_odd)"
   ]
  },
  {
   "cell_type": "markdown",
   "id": "665d5a68",
   "metadata": {},
   "source": [
    "# counter"
   ]
  },
  {
   "cell_type": "code",
   "execution_count": 14,
   "id": "a154177a",
   "metadata": {},
   "outputs": [
    {
     "name": "stdout",
     "output_type": "stream",
     "text": [
      "3\n"
     ]
    }
   ],
   "source": [
    "list_1= [1,2,3,34,4,4,55,4,5,5,55,5,5,5,55,]\n",
    "print(list_1.count(4))"
   ]
  },
  {
   "cell_type": "markdown",
   "id": "38bfc183",
   "metadata": {},
   "source": [
    "# factorial"
   ]
  },
  {
   "cell_type": "code",
   "execution_count": 15,
   "id": "e268b848",
   "metadata": {},
   "outputs": [
    {
     "name": "stdout",
     "output_type": "stream",
     "text": [
      "the factorial of 5 is 120\n"
     ]
    }
   ],
   "source": [
    "def factorial (n):\n",
    "    if n == 0 or n == 1:\n",
    "        return 1\n",
    "    else:\n",
    "        return n * factorial(n-1)\n",
    "# example:\n",
    "number = 5\n",
    "result = factorial(number)\n",
    "print(f\"the factorial of {number} is {result}\")"
   ]
  },
  {
   "cell_type": "markdown",
   "id": "186d87df",
   "metadata": {},
   "source": [
    "# prime number"
   ]
  },
  {
   "cell_type": "code",
   "execution_count": 16,
   "id": "b7fb570b",
   "metadata": {},
   "outputs": [
    {
     "name": "stdout",
     "output_type": "stream",
     "text": [
      "Ente number the number:2\n",
      "2  is prime number\n"
     ]
    }
   ],
   "source": [
    "num = int(input(\"Ente number the number:\"))\n",
    "if num ==1:\n",
    "    print(\" is not prime number\")\n",
    "if num>1:\n",
    "    for n in range(2,num):\n",
    "        if num % 2 ==0:\n",
    "            print(num,\"is not prime number\")\n",
    "            break\n",
    "    else:\n",
    "        print(num,\" is prime number\")"
   ]
  },
  {
   "cell_type": "markdown",
   "id": "b5611468",
   "metadata": {},
   "source": [
    "# class circle:"
   ]
  },
  {
   "cell_type": "code",
   "execution_count": 17,
   "id": "46637a21",
   "metadata": {},
   "outputs": [
    {
     "name": "stdout",
     "output_type": "stream",
     "text": [
      " The circle of  radius is 5 verticle is 3 and horizontal is 2 \n",
      "3\n"
     ]
    }
   ],
   "source": [
    "class circle:\n",
    "    def __init__(self,r,x,y):\n",
    "        self.r=r\n",
    "        self.x=x\n",
    "        self.y=y\n",
    "    def __str__(self):\n",
    "        return f' radius is {self.r} verticle is {self.x} and horizontal is {self.y}'\n",
    "\n",
    "obj_1 = circle(5,3,2)\n",
    "obj_2 = circle(7,8,9)\n",
    "print(f\" The circle of {obj_1} \")  \n",
    "print(obj_1.x)"
   ]
  },
  {
   "cell_type": "markdown",
   "id": "52c47ced",
   "metadata": {},
   "source": [
    "# Ascending number"
   ]
  },
  {
   "cell_type": "code",
   "execution_count": 18,
   "id": "bd84e4ef",
   "metadata": {},
   "outputs": [
    {
     "name": "stdout",
     "output_type": "stream",
     "text": [
      "[1, 2, 3, 6, 7, 8, 86975875]\n"
     ]
    }
   ],
   "source": [
    "a=[1,2,3,86975875,6,7,8]\n",
    "a_order=sorted(a)\n",
    "print(a_order)"
   ]
  },
  {
   "cell_type": "markdown",
   "id": "b0d1ef81",
   "metadata": {},
   "source": [
    "# Even Number"
   ]
  },
  {
   "cell_type": "code",
   "execution_count": 19,
   "id": "82b0d805",
   "metadata": {},
   "outputs": [
    {
     "name": "stdout",
     "output_type": "stream",
     "text": [
      "[2, 4, 6, 6]\n"
     ]
    }
   ],
   "source": [
    "a = [1,2,4,5,5,6,6]\n",
    "even=[x for x in a if x%2==0]\n",
    "print(even)"
   ]
  },
  {
   "cell_type": "markdown",
   "id": "90930fe7",
   "metadata": {},
   "source": [
    "# Odd Number"
   ]
  },
  {
   "cell_type": "code",
   "execution_count": 20,
   "id": "f73351d5",
   "metadata": {},
   "outputs": [
    {
     "name": "stdout",
     "output_type": "stream",
     "text": [
      "[1, 5, 5]\n"
     ]
    }
   ],
   "source": [
    "a = [1,2,4,5,5,6,6]\n",
    "odd=[x for x in a if x%2!=0]\n",
    "print(odd)"
   ]
  },
  {
   "cell_type": "markdown",
   "id": "a28743d4",
   "metadata": {},
   "source": [
    "# class Toyota:"
   ]
  },
  {
   "cell_type": "code",
   "execution_count": 22,
   "id": "ac485115",
   "metadata": {},
   "outputs": [
    {
     "name": "stdout",
     "output_type": "stream",
     "text": [
      "Black\n"
     ]
    }
   ],
   "source": [
    "class Toyota:\n",
    "    def __init__(self,color,model):\n",
    "        self.color=color\n",
    "        self.model=model\n",
    "    \n",
    "corola = Toyota(\"Black\",2020)\n",
    "print(corola.color)      "
   ]
  },
  {
   "cell_type": "code",
   "execution_count": null,
   "id": "256e3476",
   "metadata": {},
   "outputs": [],
   "source": []
  }
 ],
 "metadata": {
  "kernelspec": {
   "display_name": "Python 3 (ipykernel)",
   "language": "python",
   "name": "python3"
  },
  "language_info": {
   "codemirror_mode": {
    "name": "ipython",
    "version": 3
   },
   "file_extension": ".py",
   "mimetype": "text/x-python",
   "name": "python",
   "nbconvert_exporter": "python",
   "pygments_lexer": "ipython3",
   "version": "3.11.4"
  }
 },
 "nbformat": 4,
 "nbformat_minor": 5
}
