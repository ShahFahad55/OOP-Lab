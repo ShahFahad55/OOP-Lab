{
 "cells": [
  {
   "cell_type": "markdown",
   "id": "745809cd",
   "metadata": {},
   "source": [
    "## STACK ALGORITHM\n",
    "##  AIM:\n",
    "To understand the concepts  of Stack data structure in Python.\n",
    "## INTRODUCTION:\n",
    "A stack is a fundamental data structure that follows the Last In, First Out (LIFO) principle. This means that the last element added to the stack is the first one to be removed.\n",
    "## TYPES OF STACK:\n",
    "i.List Stack\n",
    "ii.Deque Stack\n",
    "iii.Node base Stack.\n",
    "\n",
    "## LAB REPORT TASK\n",
    "Make a node base implementation for Stack and pass different data types and push and pop different items and display the top item"
   ]
  },
  {
   "cell_type": "code",
   "execution_count": 127,
   "id": "d6e0f857",
   "metadata": {},
   "outputs": [],
   "source": [
    "class Node:\n",
    "    def __init__(self,data):\n",
    "        self.data = data\n",
    "        self.next = None\n",
    "        \n",
    "        \n",
    "class Nodestack:\n",
    "    def __init__(self):\n",
    "        self.top = None\n",
    "        \n",
    "    def is_empty(self):\n",
    "        return self.top is None\n",
    "    \n",
    "    def push(self,item):\n",
    "        new_node = Node(item)\n",
    "        new_node.next = self.top\n",
    "        self.top = new_node\n",
    "        \n",
    "    def pop(self):\n",
    "        if not self.is_empty():\n",
    "            popped_item = self.top.data\n",
    "            self.top = self.top.next\n",
    "            return popped_item\n",
    "        else:\n",
    "            print('stack is empty')"
   ]
  },
  {
   "cell_type": "markdown",
   "id": "05e11fd2",
   "metadata": {},
   "source": [
    "## IMPLEMENTATION OF STACKS IN PYTHON:"
   ]
  },
  {
   "cell_type": "code",
   "execution_count": 128,
   "id": "8e1b759d",
   "metadata": {},
   "outputs": [],
   "source": [
    "class StackList:\n",
    "    def __init__(self):\n",
    "        self.items=[]\n",
    "    \n",
    "    def is_empty(self):\n",
    "        return len(self.items) == 0 #return len(self.items) == 0\n",
    "    \n",
    "    \n",
    "    def push(self,item):\n",
    "        self.items.append(item)\n",
    "        \n",
    "    def pop(self):\n",
    "        if not self.is_empty:\n",
    "            return self.items.pop()\n",
    "            \n",
    "        else:\n",
    "            print(\"stack is empty\")\n",
    "            \n",
    "    def peak(self):\n",
    "        if not self.is_empty():\n",
    "            return self.items[-1]\n",
    "            \n",
    "    def size(self):\n",
    "        return len(self.items)"
   ]
  },
  {
   "cell_type": "markdown",
   "id": "7a0e3aff",
   "metadata": {},
   "source": [
    "## 2.Creating object of this class:"
   ]
  },
  {
   "cell_type": "code",
   "execution_count": 129,
   "id": "4e67801a",
   "metadata": {},
   "outputs": [],
   "source": [
    "stack = StackList()"
   ]
  },
  {
   "cell_type": "markdown",
   "id": "a7fe24f5",
   "metadata": {},
   "source": [
    "## In this implementation:\n",
    "The __init__ method initializes an empty list to store the stack elements.\n",
    "\n",
    "is_empty() checks if the stack is empty.\n",
    "\n",
    "push(item) adds an item to the top of the stack using the append() method."
   ]
  },
  {
   "cell_type": "code",
   "execution_count": 130,
   "id": "c1697ab1",
   "metadata": {},
   "outputs": [],
   "source": [
    "stack.push(2)\n",
    "\n"
   ]
  },
  {
   "cell_type": "code",
   "execution_count": 131,
   "id": "0640386e",
   "metadata": {},
   "outputs": [],
   "source": [
    "stack.push(3)\n"
   ]
  },
  {
   "cell_type": "code",
   "execution_count": 132,
   "id": "209a7976",
   "metadata": {},
   "outputs": [],
   "source": [
    "stack.push(7)\n"
   ]
  },
  {
   "cell_type": "code",
   "execution_count": 133,
   "id": "800426d9",
   "metadata": {},
   "outputs": [],
   "source": [
    "stack.push(9)"
   ]
  },
  {
   "cell_type": "code",
   "execution_count": 134,
   "id": "e1ff25e7",
   "metadata": {},
   "outputs": [],
   "source": [
    "stack.push(6)"
   ]
  },
  {
   "cell_type": "markdown",
   "id": "84d4e46d",
   "metadata": {},
   "source": [
    "#### pop() removes and returns the item from the top of the stack using the pop() method."
   ]
  },
  {
   "cell_type": "code",
   "execution_count": 135,
   "id": "d7fa0e0e",
   "metadata": {},
   "outputs": [
    {
     "name": "stdout",
     "output_type": "stream",
     "text": [
      "stack is empty\n",
      "pop: None\n"
     ]
    }
   ],
   "source": [
    "print(f'pop: {stack.pop()}' )"
   ]
  },
  {
   "cell_type": "markdown",
   "id": "82ec0d00",
   "metadata": {},
   "source": [
    "#### peek() returns the item from the top of the stack without removing it."
   ]
  },
  {
   "cell_type": "code",
   "execution_count": 136,
   "id": "30e646b2",
   "metadata": {},
   "outputs": [
    {
     "name": "stdout",
     "output_type": "stream",
     "text": [
      "peak: 6\n"
     ]
    }
   ],
   "source": [
    "print(f'peak: {stack.peak()}')"
   ]
  },
  {
   "cell_type": "markdown",
   "id": "c72e0442",
   "metadata": {},
   "source": [
    "#### size() returns the number of elements in the stack."
   ]
  },
  {
   "cell_type": "code",
   "execution_count": 137,
   "id": "48ad6f73",
   "metadata": {},
   "outputs": [
    {
     "name": "stdout",
     "output_type": "stream",
     "text": [
      "stack size : 5\n"
     ]
    }
   ],
   "source": [
    "print(f'stack size : {stack.size()}')"
   ]
  },
  {
   "cell_type": "markdown",
   "id": "b73b14ef",
   "metadata": {},
   "source": [
    "##  1.Deque Implementation:\n",
    "i.A deque (double-ended queue) is a versatile data structure that allows efficient insertion and deletion operations at both ends. In Python, you can implement a deque using the collections.deque class."
   ]
  },
  {
   "cell_type": "code",
   "execution_count": 99,
   "id": "b176af6f",
   "metadata": {},
   "outputs": [],
   "source": [
    "from collections import deque"
   ]
  },
  {
   "cell_type": "code",
   "execution_count": 100,
   "id": "e04feac3",
   "metadata": {},
   "outputs": [],
   "source": [
    "class Stackdeque:\n",
    "    def __init__(self):\n",
    "        self.items = deque()\n",
    "        \n",
    "    def is_empty(self):\n",
    "        return len(self.items) == 0\n",
    "    def push(self,item):\n",
    "        self.items.append(item)\n",
    "    def pop(self):\n",
    "        if not self.is_empty():\n",
    "            return self.items.pop()\n",
    "        else:\n",
    "            print('stack is empty')\n",
    "    \n",
    "    def peak(self):\n",
    "        if not self.is_empty():\n",
    "            return self.items[-1]\n",
    "        else:\n",
    "            print('stack is empty')\n",
    "            \n",
    "            \n",
    "    def size(self):\n",
    "        return len(self.items)"
   ]
  },
  {
   "cell_type": "markdown",
   "id": "c62afd75",
   "metadata": {},
   "source": [
    "#### a.Creating Data types in Deque Stack Implementation."
   ]
  },
  {
   "cell_type": "code",
   "execution_count": 101,
   "id": "a5a311e2",
   "metadata": {},
   "outputs": [],
   "source": [
    "stack1 = Stackdeque()\n",
    "stack2 = Stackdeque()"
   ]
  },
  {
   "cell_type": "markdown",
   "id": "34fe3439",
   "metadata": {},
   "source": [
    "#### b.Pushing element in Stack:"
   ]
  },
  {
   "cell_type": "code",
   "execution_count": 102,
   "id": "f7f903bd",
   "metadata": {},
   "outputs": [],
   "source": [
    "stack1.push(1)\n",
    "stack1.push(2)\n",
    "stack1.push(3)"
   ]
  },
  {
   "cell_type": "code",
   "execution_count": 103,
   "id": "5226572c",
   "metadata": {},
   "outputs": [],
   "source": [
    "stack2.push('apple')\n",
    "stack2.push('banana')\n",
    "stack2.push('cherry')"
   ]
  },
  {
   "cell_type": "code",
   "execution_count": 104,
   "id": "60b4a023",
   "metadata": {},
   "outputs": [
    {
     "name": "stdout",
     "output_type": "stream",
     "text": [
      "stack1: 3\n",
      "stack2: cherry\n"
     ]
    }
   ],
   "source": [
    "print(f'stack1: {stack1.pop()}')\n",
    "print(f'stack2: {stack2.pop()}')"
   ]
  },
  {
   "cell_type": "markdown",
   "id": "c639a77d",
   "metadata": {},
   "source": [
    "#### c.Popping out element from Stack."
   ]
  },
  {
   "cell_type": "code",
   "execution_count": 105,
   "id": "4b353939",
   "metadata": {},
   "outputs": [],
   "source": [
    "popped1 = stack1.pop()\n",
    "popped2 = stack1.pop()"
   ]
  },
  {
   "cell_type": "code",
   "execution_count": 106,
   "id": "4a4373f6",
   "metadata": {},
   "outputs": [],
   "source": [
    "popped3 = stack2.pop()\n",
    "popped4 = stack2.pop()"
   ]
  },
  {
   "cell_type": "code",
   "execution_count": 107,
   "id": "df136dac",
   "metadata": {},
   "outputs": [
    {
     "name": "stdout",
     "output_type": "stream",
     "text": [
      "popped from stack1: (2, 1)\n",
      "popped from stack2: ('banana', 'apple')\n",
      "current stack1: <__main__.Stackdeque object at 0x000002E933BF9750>\n",
      "current stack1: <__main__.Stackdeque object at 0x000002E933A8E590>\n"
     ]
    }
   ],
   "source": [
    "print(f'popped from stack1: {popped1 , popped2}')\n",
    "print(f'popped from stack2: {popped3 , popped4}')\n",
    "print(f'current stack1: {stack1}')\n",
    "print(f'current stack1: {stack2}')"
   ]
  },
  {
   "cell_type": "markdown",
   "id": "5bbfb770",
   "metadata": {},
   "source": [
    "## 2.NODE BASE IMPLEMENTATION:\n",
    "##### i.A node-based implementation refers to a data structure or algorithm design that involves the use of nodes, where each node contains data and a reference (or link) to the next node in the sequence. This is commonly seen in linked lists, stacks, and queues.\n",
    "##### ii.The Node class represents each element in the stack with a data attribute and a next attribute pointing to the next node"
   ]
  },
  {
   "cell_type": "code",
   "execution_count": 108,
   "id": "d8261f42",
   "metadata": {},
   "outputs": [],
   "source": [
    "class Node:\n",
    "    def __init__(self,data):\n",
    "        self.data = data\n",
    "        self.next = None"
   ]
  },
  {
   "cell_type": "markdown",
   "id": "80f67472",
   "metadata": {},
   "source": [
    "#### The NodeStack class maintains a reference to the top of the stack (top)."
   ]
  },
  {
   "cell_type": "code",
   "execution_count": 109,
   "id": "404baa3c",
   "metadata": {},
   "outputs": [],
   "source": [
    "class Nodestack:\n",
    "    def __init__(self):\n",
    "        self.top = None"
   ]
  },
  {
   "cell_type": "markdown",
   "id": "08d5fbcd",
   "metadata": {},
   "source": [
    "#### The push() method adds a new node to the top of the stack."
   ]
  },
  {
   "cell_type": "code",
   "execution_count": 110,
   "id": "826dae57",
   "metadata": {},
   "outputs": [],
   "source": [
    "def push(self,item):\n",
    "    new_node = Node(item)\n",
    "    new_node.next = self.top\n",
    "    self.top = new_node"
   ]
  },
  {
   "cell_type": "markdown",
   "id": "63e2439c",
   "metadata": {},
   "source": [
    "#### The pop() method removes and returns the item from the top of the stack."
   ]
  },
  {
   "cell_type": "code",
   "execution_count": 111,
   "id": "48dbc94d",
   "metadata": {},
   "outputs": [],
   "source": [
    "def pop(self):\n",
    "    if not self.is_empty():\n",
    "        popped_item = self.top.data\n",
    "        self.top = self.top.next\n",
    "        return popped_item\n",
    "    else:\n",
    "        print('stack is empty')"
   ]
  },
  {
   "cell_type": "markdown",
   "id": "00f7d2b7",
   "metadata": {},
   "source": [
    "#### The peek() method returns the item from the top of the stack without removing it."
   ]
  },
  {
   "cell_type": "code",
   "execution_count": 112,
   "id": "2c3ca63d",
   "metadata": {},
   "outputs": [],
   "source": [
    "def peak(self):\n",
    "    if not self.is_empty():\n",
    "        return self.top.data\n",
    "    else:\n",
    "        print('stack is empty')"
   ]
  },
  {
   "cell_type": "markdown",
   "id": "2c84559c",
   "metadata": {},
   "source": [
    "#### The size() method calculates the number of elements in the stack by traversing the linked nodes."
   ]
  },
  {
   "cell_type": "code",
   "execution_count": 113,
   "id": "9b2b3d72",
   "metadata": {},
   "outputs": [],
   "source": [
    "def size(self):\n",
    "    current = self.top\n",
    "    count = 0\n",
    "    while current:\n",
    "        count +=1\n",
    "        current = current.next\n",
    "    return count"
   ]
  },
  {
   "cell_type": "markdown",
   "id": "037cf91e",
   "metadata": {},
   "source": [
    "## 3.NOW CREATING INSTANCES:\n",
    "Creating instances of Node base Stack and apply push pop and other methods on that instance."
   ]
  },
  {
   "cell_type": "code",
   "execution_count": 121,
   "id": "9fb3bd38",
   "metadata": {},
   "outputs": [],
   "source": [
    "stack = Nodestack()"
   ]
  },
  {
   "cell_type": "code",
   "execution_count": 122,
   "id": "20ed599b",
   "metadata": {},
   "outputs": [
    {
     "ename": "AttributeError",
     "evalue": "'Nodestack' object has no attribute 'push'",
     "output_type": "error",
     "traceback": [
      "\u001b[1;31m---------------------------------------------------------------------------\u001b[0m",
      "\u001b[1;31mAttributeError\u001b[0m                            Traceback (most recent call last)",
      "Cell \u001b[1;32mIn[122], line 1\u001b[0m\n\u001b[1;32m----> 1\u001b[0m stack\u001b[38;5;241m.\u001b[39mpush(\u001b[38;5;241m1\u001b[39m)\n",
      "\u001b[1;31mAttributeError\u001b[0m: 'Nodestack' object has no attribute 'push'"
     ]
    }
   ],
   "source": [
    "stack.push(1)"
   ]
  },
  {
   "cell_type": "code",
   "execution_count": 118,
   "id": "85468cdb",
   "metadata": {},
   "outputs": [
    {
     "ename": "AttributeError",
     "evalue": "'Nodestack' object has no attribute 'push'",
     "output_type": "error",
     "traceback": [
      "\u001b[1;31m---------------------------------------------------------------------------\u001b[0m",
      "\u001b[1;31mAttributeError\u001b[0m                            Traceback (most recent call last)",
      "Cell \u001b[1;32mIn[118], line 1\u001b[0m\n\u001b[1;32m----> 1\u001b[0m stack\u001b[38;5;241m.\u001b[39mpush(\u001b[38;5;241m1\u001b[39m)\n",
      "\u001b[1;31mAttributeError\u001b[0m: 'Nodestack' object has no attribute 'push'"
     ]
    }
   ],
   "source": [
    "stack.push(1)"
   ]
  },
  {
   "cell_type": "code",
   "execution_count": 119,
   "id": "8b521bd5",
   "metadata": {},
   "outputs": [
    {
     "ename": "AttributeError",
     "evalue": "'Nodestack' object has no attribute 'push'",
     "output_type": "error",
     "traceback": [
      "\u001b[1;31m---------------------------------------------------------------------------\u001b[0m",
      "\u001b[1;31mAttributeError\u001b[0m                            Traceback (most recent call last)",
      "Cell \u001b[1;32mIn[119], line 1\u001b[0m\n\u001b[1;32m----> 1\u001b[0m stack\u001b[38;5;241m.\u001b[39mpush(\u001b[38;5;241m1\u001b[39m)\n",
      "\u001b[1;31mAttributeError\u001b[0m: 'Nodestack' object has no attribute 'push'"
     ]
    }
   ],
   "source": [
    "stack.push(1)"
   ]
  },
  {
   "cell_type": "code",
   "execution_count": 120,
   "id": "6f7ebfb5",
   "metadata": {},
   "outputs": [
    {
     "ename": "AttributeError",
     "evalue": "'Nodestack' object has no attribute 'peak'",
     "output_type": "error",
     "traceback": [
      "\u001b[1;31m---------------------------------------------------------------------------\u001b[0m",
      "\u001b[1;31mAttributeError\u001b[0m                            Traceback (most recent call last)",
      "Cell \u001b[1;32mIn[120], line 1\u001b[0m\n\u001b[1;32m----> 1\u001b[0m \u001b[38;5;28mprint\u001b[39m(\u001b[38;5;124m'\u001b[39m\u001b[38;5;124mpeak\u001b[39m\u001b[38;5;124m'\u001b[39m,stack\u001b[38;5;241m.\u001b[39mpeak())\n\u001b[0;32m      2\u001b[0m \u001b[38;5;28mprint\u001b[39m(\u001b[38;5;124m'\u001b[39m\u001b[38;5;124mpop\u001b[39m\u001b[38;5;124m'\u001b[39m,stack\u001b[38;5;241m.\u001b[39mpop())\n\u001b[0;32m      3\u001b[0m \u001b[38;5;28mprint\u001b[39m(\u001b[38;5;124m'\u001b[39m\u001b[38;5;124msize\u001b[39m\u001b[38;5;124m'\u001b[39m,stack\u001b[38;5;241m.\u001b[39msize())\n",
      "\u001b[1;31mAttributeError\u001b[0m: 'Nodestack' object has no attribute 'peak'"
     ]
    }
   ],
   "source": [
    "print('peak',stack.peak())\n",
    "print('pop',stack.pop())\n",
    "print('size',stack.size())"
   ]
  },
  {
   "cell_type": "code",
   "execution_count": 84,
   "id": "b33a8383",
   "metadata": {},
   "outputs": [],
   "source": [
    "class Node:\n",
    "    def __init__(self,data):\n",
    "        self.data = data\n",
    "        self.next = None\n",
    "\n",
    "        \n",
    "class Nodestack:\n",
    "    def __init__(self):\n",
    "        self.top = None\n",
    "        \n",
    "    def is_empty(self):\n",
    "         return self.top is None\n",
    "        \n",
    "        \n",
    "    def push(self,item):\n",
    "        new_node = Node(item)\n",
    "        new_node.next = self.top\n",
    "        self.top = new_node\n",
    "        \n",
    "        \n",
    "    def pop(self):\n",
    "        if not self.is_empty():\n",
    "            popped_item = self.top.data\n",
    "            self.top = self.top.next\n",
    "            return popped_item\n",
    "        else:\n",
    "            print('stack is empty')\n",
    "    \n",
    "    def peak(self):\n",
    "        if not self.is_empty():\n",
    "            return self.top.data\n",
    "        else:\n",
    "            print('stack is empty')\n",
    "    def size(self):\n",
    "        current = self.top\n",
    "        count = 0\n",
    "        while current:\n",
    "            count +=1\n",
    "            current = current.next\n",
    "            return count\n",
    "    \n",
    "    "
   ]
  },
  {
   "cell_type": "code",
   "execution_count": 85,
   "id": "7d557110",
   "metadata": {},
   "outputs": [],
   "source": [
    "stack = Nodestack()"
   ]
  },
  {
   "cell_type": "code",
   "execution_count": 86,
   "id": "4a975de2",
   "metadata": {},
   "outputs": [],
   "source": [
    "stack.push(1)\n",
    "stack.push(2)\n",
    "stack.push(3)"
   ]
  },
  {
   "cell_type": "code",
   "execution_count": 87,
   "id": "ed0cf53e",
   "metadata": {},
   "outputs": [
    {
     "data": {
      "text/plain": [
       "3"
      ]
     },
     "execution_count": 87,
     "metadata": {},
     "output_type": "execute_result"
    }
   ],
   "source": [
    "stack.peak()"
   ]
  },
  {
   "cell_type": "code",
   "execution_count": 88,
   "id": "460f8af9",
   "metadata": {},
   "outputs": [
    {
     "name": "stdout",
     "output_type": "stream",
     "text": [
      "peak 3\n",
      "pop 3\n",
      "size 1\n"
     ]
    }
   ],
   "source": [
    "print('peak',stack.peak())\n",
    "print('pop',stack.pop())\n",
    "print('size',stack.size())"
   ]
  }
 ],
 "metadata": {
  "kernelspec": {
   "display_name": "Python 3 (ipykernel)",
   "language": "python",
   "name": "python3"
  },
  "language_info": {
   "codemirror_mode": {
    "name": "ipython",
    "version": 3
   },
   "file_extension": ".py",
   "mimetype": "text/x-python",
   "name": "python",
   "nbconvert_exporter": "python",
   "pygments_lexer": "ipython3",
   "version": "3.11.4"
  }
 },
 "nbformat": 4,
 "nbformat_minor": 5
}
