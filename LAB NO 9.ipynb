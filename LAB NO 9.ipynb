{
 "cells": [
  {
   "cell_type": "markdown",
   "id": "7bd7a08c",
   "metadata": {},
   "source": [
    "# lab work task"
   ]
  },
  {
   "cell_type": "markdown",
   "id": "ae71d540",
   "metadata": {},
   "source": [
    "## • Modifying the standard string’s functionality"
   ]
  },
  {
   "cell_type": "code",
   "execution_count": 76,
   "id": "c48826d2",
   "metadata": {},
   "outputs": [],
   "source": [
    "class WordCountString(str):\n",
    "    def words(self, separator=None):\n",
    "        return len(self.split(separator)) "
   ]
  },
  {
   "cell_type": "markdown",
   "id": "570dfacf",
   "metadata": {},
   "source": [
    "### a. Run the following code.  "
   ]
  },
  {
   "cell_type": "code",
   "execution_count": 77,
   "id": "cbe2df7f",
   "metadata": {},
   "outputs": [
    {
     "data": {
      "text/plain": [
       "32"
      ]
     },
     "execution_count": 77,
     "metadata": {},
     "output_type": "execute_result"
    }
   ],
   "source": [
    "sample_text = WordCountString( \n",
    "\"\"\"Knowledge of Python can be an added advantage in \n",
    "terms of skills, as it enables  \n",
    "electrical engineers to leverage its versatility \n",
    "for a wide range of tasks the  \n",
    "scope of specialized software.\"\"\") \n",
    "sample_text.words()"
   ]
  },
  {
   "cell_type": "markdown",
   "id": "37e335f2",
   "metadata": {},
   "source": [
    "### 2. To learn how to modify the standard behavior of str in a custom string like class"
   ]
  },
  {
   "cell_type": "code",
   "execution_count": 79,
   "id": "8c1cbeec",
   "metadata": {},
   "outputs": [],
   "source": [
    "class UpperPrintString(str):\n",
    "    def __str__(self):\n",
    "        return self.upper()"
   ]
  },
  {
   "cell_type": "markdown",
   "id": "bf17fa05",
   "metadata": {},
   "source": [
    "### a. Run the following code. "
   ]
  },
  {
   "cell_type": "code",
   "execution_count": 80,
   "id": "bf288277",
   "metadata": {},
   "outputs": [
    {
     "name": "stdout",
     "output_type": "stream",
     "text": [
      "HELLO, PYTHONISTA!\n"
     ]
    }
   ],
   "source": [
    "sample_string = UpperPrintString(\"Hello, Pythonista!\")\n",
    "print(sample_string) \n"
   ]
  },
  {
   "cell_type": "code",
   "execution_count": 81,
   "id": "4b03c86d",
   "metadata": {
    "scrolled": false
   },
   "outputs": [
    {
     "data": {
      "text/plain": [
       "'Hello, Pythonista!'"
      ]
     },
     "execution_count": 81,
     "metadata": {},
     "output_type": "execute_result"
    }
   ],
   "source": [
    "sample_string \n"
   ]
  },
  {
   "cell_type": "markdown",
   "id": "53c389b9",
   "metadata": {},
   "source": [
    "# Add repr to print"
   ]
  },
  {
   "cell_type": "code",
   "execution_count": 89,
   "id": "8241fde2",
   "metadata": {},
   "outputs": [],
   "source": [
    "class UpperPrintString(str):\n",
    "    def __repr__(self):\n",
    "        return self.upper()"
   ]
  },
  {
   "cell_type": "code",
   "execution_count": 90,
   "id": "cf6663c9",
   "metadata": {},
   "outputs": [
    {
     "name": "stdout",
     "output_type": "stream",
     "text": [
      "Hello, Pythonista!\n"
     ]
    }
   ],
   "source": [
    "sample_string = UpperPrintString(\"Hello, Pythonista!\")\n",
    "print(sample_string) "
   ]
  },
  {
   "cell_type": "code",
   "execution_count": 92,
   "id": "1390b351",
   "metadata": {},
   "outputs": [
    {
     "data": {
      "text/plain": [
       "HELLO, PYTHONISTA!"
      ]
     },
     "execution_count": 92,
     "metadata": {},
     "output_type": "execute_result"
    }
   ],
   "source": [
    "sample_string "
   ]
  },
  {
   "cell_type": "markdown",
   "id": "6c4a00ec",
   "metadata": {},
   "source": [
    "# define function to find the length of string"
   ]
  },
  {
   "cell_type": "code",
   "execution_count": 93,
   "id": "18fd779a",
   "metadata": {},
   "outputs": [],
   "source": [
    "class strlen(str):\n",
    "    def lent(self):\n",
    "        return len(self)"
   ]
  },
  {
   "cell_type": "code",
   "execution_count": 98,
   "id": "7d58b9a2",
   "metadata": {},
   "outputs": [],
   "source": [
    "ax = strlen(\"aaa sss ddd\")"
   ]
  },
  {
   "cell_type": "code",
   "execution_count": 99,
   "id": "6dc6a7e7",
   "metadata": {},
   "outputs": [
    {
     "data": {
      "text/plain": [
       "11"
      ]
     },
     "execution_count": 99,
     "metadata": {},
     "output_type": "execute_result"
    }
   ],
   "source": [
    "ax.lent()"
   ]
  },
  {
   "cell_type": "markdown",
   "id": "8efb8cc3",
   "metadata": {},
   "source": [
    "# first alphabet capatalized"
   ]
  },
  {
   "cell_type": "code",
   "execution_count": 103,
   "id": "077a5965",
   "metadata": {},
   "outputs": [
    {
     "name": "stdout",
     "output_type": "stream",
     "text": [
      "Abdul samad is genius\n",
      "Samad\n",
      "Genius\n"
     ]
    }
   ],
   "source": [
    "S = (\"abdul samad is genius\")\n",
    "a = \"samad\"\n",
    "i = \"genius\"\n",
    "def__str__(self):\n",
    "    return\n",
    "print(S.capitalize())\n",
    "print(a.capitalize())\n",
    "print(i.capitalize())"
   ]
  },
  {
   "cell_type": "markdown",
   "id": "9b841412",
   "metadata": {},
   "source": [
    "# capitalized first words of sentence\""
   ]
  },
  {
   "cell_type": "code",
   "execution_count": 109,
   "id": "da755fe3",
   "metadata": {},
   "outputs": [
    {
     "name": "stdout",
     "output_type": "stream",
     "text": [
      "Abdul Samad Is Genius And He Is Good Student\n"
     ]
    }
   ],
   "source": [
    "def capitalize_first_words(sentence):\n",
    "    words = sentence.split()\n",
    "    capitalized_words = [word.capitalize() for word in words]\n",
    "    capitalized_sentence = ' '.join(capitalized_words)\n",
    "    return capitalized_sentence\n",
    "\n",
    "a = \"abdul samad is genius and he is good student\"\n",
    "result = capitalize_first_words(a)\n",
    "print(result)"
   ]
  },
  {
   "cell_type": "code",
   "execution_count": 43,
   "id": "aacb1795",
   "metadata": {},
   "outputs": [],
   "source": [
    "class Lowerprintstring(str):\n",
    "    def __str__(self):\n",
    "        return self.lower()"
   ]
  },
  {
   "cell_type": "code",
   "execution_count": 44,
   "id": "d3b18f93",
   "metadata": {},
   "outputs": [
    {
     "name": "stdout",
     "output_type": "stream",
     "text": [
      "hello reper\n"
     ]
    },
    {
     "data": {
      "text/plain": [
       "'HELLO REPER'"
      ]
     },
     "execution_count": 44,
     "metadata": {},
     "output_type": "execute_result"
    }
   ],
   "source": [
    "smallletter_string= Lowerprintstring (\"HELLO REPER\")\n",
    "print(smallletter_string)\n",
    "smallletter_string"
   ]
  },
  {
   "cell_type": "markdown",
   "id": "0c41c07e",
   "metadata": {},
   "source": [
    "# upper function"
   ]
  },
  {
   "cell_type": "code",
   "execution_count": 46,
   "id": "98e35cc6",
   "metadata": {},
   "outputs": [
    {
     "name": "stdout",
     "output_type": "stream",
     "text": [
      "MY NAME IS SHAH FAHAD\n"
     ]
    }
   ],
   "source": [
    "a = (\"my name is shah fahad\")\n",
    "print(a.upper())"
   ]
  },
  {
   "cell_type": "code",
   "execution_count": null,
   "id": "0716a662",
   "metadata": {},
   "outputs": [],
   "source": []
  }
 ],
 "metadata": {
  "kernelspec": {
   "display_name": "Python 3 (ipykernel)",
   "language": "python",
   "name": "python3"
  },
  "language_info": {
   "codemirror_mode": {
    "name": "ipython",
    "version": 3
   },
   "file_extension": ".py",
   "mimetype": "text/x-python",
   "name": "python",
   "nbconvert_exporter": "python",
   "pygments_lexer": "ipython3",
   "version": "3.11.4"
  }
 },
 "nbformat": 4,
 "nbformat_minor": 5
}
